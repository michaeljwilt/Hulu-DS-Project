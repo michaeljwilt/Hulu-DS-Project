{
 "cells": [
  {
   "cell_type": "code",
   "execution_count": 2,
   "id": "37550bdc-bc86-4d65-a643-2dea0b739127",
   "metadata": {},
   "outputs": [],
   "source": [
    "library(\"dplyr\")\n",
    "library(\"rcompanion\")\n",
    "library(\"car\")\n",
    "library(\"ggplot2\")\n",
    "library(\"IDPmisc\")"
   ]
  },
  {
   "cell_type": "code",
   "execution_count": 3,
   "id": "b871e23c-6658-4696-8018-7d2064ea118a",
   "metadata": {},
   "outputs": [],
   "source": [
    "credits <- read.csv(\"credits.csv\")\n",
    "titles <- read.csv(\"titles.csv\")"
   ]
  },
  {
   "cell_type": "code",
   "execution_count": null,
   "id": "67ab570f-d04d-47be-b5a9-be2fb453262e",
   "metadata": {},
   "outputs": [],
   "source": [
    "View(credits)\n",
    "View(titles)"
   ]
  },
  {
   "cell_type": "markdown",
   "id": "bdd8134c-3fb1-4506-9307-337ddffade29",
   "metadata": {},
   "source": [
    "## Merge the 2 datasets together & Omit N/A values"
   ]
  },
  {
   "cell_type": "code",
   "execution_count": 7,
   "id": "518ab759-4c8c-407b-8ac7-97481d126aee",
   "metadata": {},
   "outputs": [],
   "source": [
    "hulu <- merge(credits,titles,by=\"id\")\n",
    "hulu1 <- NaRV.omit(hulu)\n",
    "huluTV <- hulu1"
   ]
  },
  {
   "cell_type": "markdown",
   "id": "1d091f7d-ca07-4dc7-adfd-b5a10906c5b3",
   "metadata": {},
   "source": [
    "### Run Correlation between variables"
   ]
  },
  {
   "cell_type": "code",
   "execution_count": 10,
   "id": "ac1d910b-ddc6-4f1a-a74c-977acfad9cf1",
   "metadata": {},
   "outputs": [
    {
     "data": {
      "text/plain": [
       "\n",
       "\tPearson's product-moment correlation\n",
       "\n",
       "data:  hulu$imdb_score and hulu$tmdb_popularity\n",
       "t = 16.24, df = 30635, p-value < 2.2e-16\n",
       "alternative hypothesis: true correlation is not equal to 0\n",
       "95 percent confidence interval:\n",
       " 0.08127676 0.10348098\n",
       "sample estimates:\n",
       "       cor \n",
       "0.09239035 \n"
      ]
     },
     "metadata": {},
     "output_type": "display_data"
    },
    {
     "data": {
      "text/plain": [
       "\n",
       "\tPearson's product-moment correlation\n",
       "\n",
       "data:  hulu1$imdb_score and hulu1$tmdb_popularity\n",
       "t = 9.9791, df = 8818, p-value < 2.2e-16\n",
       "alternative hypothesis: true correlation is not equal to 0\n",
       "95 percent confidence interval:\n",
       " 0.08499096 0.12626526\n",
       "sample estimates:\n",
       "      cor \n",
       "0.1056736 \n"
      ]
     },
     "metadata": {},
     "output_type": "display_data"
    }
   ],
   "source": [
    "cor.test(hulu$imdb_score, hulu$tmdb_popularity, method=\"pearson\")\n",
    "cor.test(hulu1$imdb_score, hulu1$tmdb_popularity, method=\"pearson\")"
   ]
  },
  {
   "cell_type": "markdown",
   "id": "caf0a514-2cad-49b5-82b6-ddcd86cef2f6",
   "metadata": {},
   "source": [
    "# Explore Data"
   ]
  },
  {
   "cell_type": "code",
   "execution_count": 12,
   "id": "fa5eae4f-0ede-4f21-9c21-7c2295f34b85",
   "metadata": {},
   "outputs": [
    {
     "data": {
      "text/html": [
       "48.1846004417234"
      ],
      "text/latex": [
       "48.1846004417234"
      ],
      "text/markdown": [
       "48.1846004417234"
      ],
      "text/plain": [
       "[1] 48.1846"
      ]
     },
     "metadata": {},
     "output_type": "display_data"
    },
    {
     "data": {
      "text/html": [
       "20.072"
      ],
      "text/latex": [
       "20.072"
      ],
      "text/markdown": [
       "20.072"
      ],
      "text/plain": [
       "[1] 20.072"
      ]
     },
     "metadata": {},
     "output_type": "display_data"
    },
    {
     "data": {
      "text/html": [
       "<style>\n",
       ".list-inline {list-style: none; margin:0; padding: 0}\n",
       ".list-inline>li {display: inline-block}\n",
       ".list-inline>li:not(:last-child)::after {content: \"\\00b7\"; padding: 0 .5ex}\n",
       "</style>\n",
       "<ol class=list-inline><li>0.6</li><li>2989.846</li></ol>\n"
      ],
      "text/latex": [
       "\\begin{enumerate*}\n",
       "\\item 0.6\n",
       "\\item 2989.846\n",
       "\\end{enumerate*}\n"
      ],
      "text/markdown": [
       "1. 0.6\n",
       "2. 2989.846\n",
       "\n",
       "\n"
      ],
      "text/plain": [
       "[1]    0.600 2989.846"
      ]
     },
     "metadata": {},
     "output_type": "display_data"
    }
   ],
   "source": [
    "mean(huluTV$tmdb_popularity)\n",
    "median(huluTV$tmdb_popularity)\n",
    "range(huluTV$tmdb_popularity, na.rm=TRUE)"
   ]
  },
  {
   "cell_type": "code",
   "execution_count": 13,
   "id": "26df779c-5e96-46c1-93e2-3e7baa89139c",
   "metadata": {},
   "outputs": [
    {
     "data": {
      "text/html": [
       "7.3112925170068"
      ],
      "text/latex": [
       "7.3112925170068"
      ],
      "text/markdown": [
       "7.3112925170068"
      ],
      "text/plain": [
       "[1] 7.311293"
      ]
     },
     "metadata": {},
     "output_type": "display_data"
    },
    {
     "data": {
      "text/html": [
       "7.5"
      ],
      "text/latex": [
       "7.5"
      ],
      "text/markdown": [
       "7.5"
      ],
      "text/plain": [
       "[1] 7.5"
      ]
     },
     "metadata": {},
     "output_type": "display_data"
    },
    {
     "data": {
      "text/html": [
       "<style>\n",
       ".list-inline {list-style: none; margin:0; padding: 0}\n",
       ".list-inline>li {display: inline-block}\n",
       ".list-inline>li:not(:last-child)::after {content: \"\\00b7\"; padding: 0 .5ex}\n",
       "</style>\n",
       "<ol class=list-inline><li>1</li><li>9.3</li></ol>\n"
      ],
      "text/latex": [
       "\\begin{enumerate*}\n",
       "\\item 1\n",
       "\\item 9.3\n",
       "\\end{enumerate*}\n"
      ],
      "text/markdown": [
       "1. 1\n",
       "2. 9.3\n",
       "\n",
       "\n"
      ],
      "text/plain": [
       "[1] 1.0 9.3"
      ]
     },
     "metadata": {},
     "output_type": "display_data"
    }
   ],
   "source": [
    "mean(huluTV$imdb_score)\n",
    "median(huluTV$imdb_score)\n",
    "range(huluTV$imdb_score, na.rm=TRUE)"
   ]
  },
  {
   "cell_type": "code",
   "execution_count": 14,
   "id": "375dcc1a-b524-4363-8cc8-643c9cf4d872",
   "metadata": {},
   "outputs": [
    {
     "data": {
      "text/html": [
       "23999.1975056689"
      ],
      "text/latex": [
       "23999.1975056689"
      ],
      "text/markdown": [
       "23999.1975056689"
      ],
      "text/plain": [
       "[1] 23999.2"
      ]
     },
     "metadata": {},
     "output_type": "display_data"
    },
    {
     "data": {
      "text/html": [
       "5088"
      ],
      "text/latex": [
       "5088"
      ],
      "text/markdown": [
       "5088"
      ],
      "text/plain": [
       "[1] 5088"
      ]
     },
     "metadata": {},
     "output_type": "display_data"
    },
    {
     "data": {
      "text/html": [
       "<style>\n",
       ".list-inline {list-style: none; margin:0; padding: 0}\n",
       ".list-inline>li {display: inline-block}\n",
       ".list-inline>li:not(:last-child)::after {content: \"\\00b7\"; padding: 0 .5ex}\n",
       "</style>\n",
       "<ol class=list-inline><li>6</li><li>661972</li></ol>\n"
      ],
      "text/latex": [
       "\\begin{enumerate*}\n",
       "\\item 6\n",
       "\\item 661972\n",
       "\\end{enumerate*}\n"
      ],
      "text/markdown": [
       "1. 6\n",
       "2. 661972\n",
       "\n",
       "\n"
      ],
      "text/plain": [
       "[1]      6 661972"
      ]
     },
     "metadata": {},
     "output_type": "display_data"
    }
   ],
   "source": [
    "mean(huluTV$imdb_votes)\n",
    "median(huluTV$imdb_votes)\n",
    "range(huluTV$imdb_votes, na.rm=TRUE)"
   ]
  },
  {
   "cell_type": "code",
   "execution_count": 15,
   "id": "5cb8b69f-af73-4c05-875e-d6b30e485f33",
   "metadata": {},
   "outputs": [
    {
     "data": {
      "text/html": [
       "3.92913832199546"
      ],
      "text/latex": [
       "3.92913832199546"
      ],
      "text/markdown": [
       "3.92913832199546"
      ],
      "text/plain": [
       "[1] 3.929138"
      ]
     },
     "metadata": {},
     "output_type": "display_data"
    },
    {
     "data": {
      "text/html": [
       "2"
      ],
      "text/latex": [
       "2"
      ],
      "text/markdown": [
       "2"
      ],
      "text/plain": [
       "[1] 2"
      ]
     },
     "metadata": {},
     "output_type": "display_data"
    },
    {
     "data": {
      "text/html": [
       "<style>\n",
       ".list-inline {list-style: none; margin:0; padding: 0}\n",
       ".list-inline>li {display: inline-block}\n",
       ".list-inline>li:not(:last-child)::after {content: \"\\00b7\"; padding: 0 .5ex}\n",
       "</style>\n",
       "<ol class=list-inline><li>1</li><li>63</li></ol>\n"
      ],
      "text/latex": [
       "\\begin{enumerate*}\n",
       "\\item 1\n",
       "\\item 63\n",
       "\\end{enumerate*}\n"
      ],
      "text/markdown": [
       "1. 1\n",
       "2. 63\n",
       "\n",
       "\n"
      ],
      "text/plain": [
       "[1]  1 63"
      ]
     },
     "metadata": {},
     "output_type": "display_data"
    }
   ],
   "source": [
    "mean(huluTV$seasons)\n",
    "median(huluTV$seasons)\n",
    "range(huluTV$seasons, na.rm=TRUE)"
   ]
  },
  {
   "cell_type": "code",
   "execution_count": 16,
   "id": "1c5235b2-3a2e-4b54-8c1f-7b69a5f7304c",
   "metadata": {},
   "outputs": [
    {
     "data": {
      "text/html": [
       "<table class=\"dataframe\">\n",
       "<caption>A tibble: 1 × 2</caption>\n",
       "<thead>\n",
       "\t<tr><th scope=col>type</th><th scope=col>count</th></tr>\n",
       "\t<tr><th scope=col>&lt;chr&gt;</th><th scope=col>&lt;int&gt;</th></tr>\n",
       "</thead>\n",
       "<tbody>\n",
       "\t<tr><td>SHOW</td><td>8820</td></tr>\n",
       "</tbody>\n",
       "</table>\n"
      ],
      "text/latex": [
       "A tibble: 1 × 2\n",
       "\\begin{tabular}{ll}\n",
       " type & count\\\\\n",
       " <chr> & <int>\\\\\n",
       "\\hline\n",
       "\t SHOW & 8820\\\\\n",
       "\\end{tabular}\n"
      ],
      "text/markdown": [
       "\n",
       "A tibble: 1 × 2\n",
       "\n",
       "| type &lt;chr&gt; | count &lt;int&gt; |\n",
       "|---|---|\n",
       "| SHOW | 8820 |\n",
       "\n"
      ],
      "text/plain": [
       "  type count\n",
       "1 SHOW 8820 "
      ]
     },
     "metadata": {},
     "output_type": "display_data"
    }
   ],
   "source": [
    "huluTV  %>% group_by(type) %>% summarise(count = n())"
   ]
  },
  {
   "cell_type": "markdown",
   "id": "24a7cc53-7fc3-44fd-bce5-d5f59847337a",
   "metadata": {},
   "source": [
    "# ANOVA Analysis"
   ]
  },
  {
   "cell_type": "markdown",
   "id": "a676a941-2c6d-42ed-92db-71fea80f7f17",
   "metadata": {},
   "source": [
    "### DV = season\n",
    "### IV = imdb_score\n",
    "### IV = tmdb_popularity\n",
    "#### Make imdb_score into a categorical variable for the ANOVA analysis"
   ]
  },
  {
   "cell_type": "code",
   "execution_count": 17,
   "id": "f662096c-a0c5-4553-bc6e-99c8f3c97bf3",
   "metadata": {},
   "outputs": [],
   "source": [
    "huluTV$imdb_scoreCAT <- cut(huluTV$imdb_score, breaks=c(0, 3, 6, 10), labels=c(1, 2, 3))"
   ]
  },
  {
   "cell_type": "markdown",
   "id": "7c515545-1bc1-4ac6-b873-a303c62244e8",
   "metadata": {
    "tags": []
   },
   "source": [
    "#### Make tmdb_popularity into a categorical variable for the ANOVA analysis\n",
    "\n",
    "\n"
   ]
  },
  {
   "cell_type": "code",
   "execution_count": 18,
   "id": "975689a9-aa7b-4a01-9a10-77c9ac0c7e4f",
   "metadata": {},
   "outputs": [],
   "source": [
    "huluTV$tmdb_popularityCATT <- cut(huluTV$tmdb_popularity, breaks=c(0, 1000, 2000, 3000), labels=c(1, 2, 3))"
   ]
  },
  {
   "cell_type": "code",
   "execution_count": 19,
   "id": "1102a849-93c4-4a73-8f01-097da91b1c5d",
   "metadata": {},
   "outputs": [],
   "source": [
    "keeps2 <- c(\"title\",\"imdb_score\", \"tmdb_popularity\", \"seasons\", \"imdb_scoreCAT\")\n",
    "huluTV1 <- huluTV[keeps2]"
   ]
  },
  {
   "cell_type": "code",
   "execution_count": 20,
   "id": "48691487-571a-436a-bd47-fa7eaad4feaa",
   "metadata": {},
   "outputs": [],
   "source": [
    "huluTV2 <- distinct(huluTV1)"
   ]
  },
  {
   "cell_type": "code",
   "execution_count": 21,
   "id": "20c9e555-989b-4afb-a04c-9f0f269e8ce9",
   "metadata": {},
   "outputs": [
    {
     "data": {
      "text/html": [
       "8820"
      ],
      "text/latex": [
       "8820"
      ],
      "text/markdown": [
       "8820"
      ],
      "text/plain": [
       "[1] 8820"
      ]
     },
     "metadata": {},
     "output_type": "display_data"
    },
    {
     "data": {
      "text/html": [
       "1078"
      ],
      "text/latex": [
       "1078"
      ],
      "text/markdown": [
       "1078"
      ],
      "text/plain": [
       "[1] 1078"
      ]
     },
     "metadata": {},
     "output_type": "display_data"
    }
   ],
   "source": [
    "nrow(huluTV)\n",
    "nrow(huluTV2)"
   ]
  },
  {
   "cell_type": "code",
   "execution_count": 22,
   "id": "78ed8116-b46f-4591-9238-5cb56a6b02c3",
   "metadata": {},
   "outputs": [
    {
     "data": {
      "text/html": [
       "<style>\n",
       ".list-inline {list-style: none; margin:0; padding: 0}\n",
       ".list-inline>li {display: inline-block}\n",
       ".list-inline>li:not(:last-child)::after {content: \"\\00b7\"; padding: 0 .5ex}\n",
       "</style>\n",
       "<ol class=list-inline><li>0.6</li><li>2989.846</li></ol>\n"
      ],
      "text/latex": [
       "\\begin{enumerate*}\n",
       "\\item 0.6\n",
       "\\item 2989.846\n",
       "\\end{enumerate*}\n"
      ],
      "text/markdown": [
       "1. 0.6\n",
       "2. 2989.846\n",
       "\n",
       "\n"
      ],
      "text/plain": [
       "[1]    0.600 2989.846"
      ]
     },
     "metadata": {},
     "output_type": "display_data"
    }
   ],
   "source": [
    "range(huluTV2$tmdb_popularity, na.rm=TRUE)"
   ]
  },
  {
   "cell_type": "code",
   "execution_count": 23,
   "id": "3a0614ab-b41b-4dea-8bba-92f72eba5e90",
   "metadata": {},
   "outputs": [],
   "source": [
    "huluTV2$tmdb_popularityCAT <- cut(huluTV2$tmdb_popularity, breaks=c(0, 100, 200, 500, 1000, 3000), labels=c(1, 2, 3, 4, 5))"
   ]
  },
  {
   "cell_type": "markdown",
   "id": "77558729-811b-4eb4-a829-d6ba64bb5ce8",
   "metadata": {},
   "source": [
    "## Assumptions"
   ]
  },
  {
   "cell_type": "markdown",
   "id": "4da095ad-6050-45ab-b9d7-404b4c77bded",
   "metadata": {},
   "source": [
    "### Normality"
   ]
  },
  {
   "cell_type": "code",
   "execution_count": 24,
   "id": "220e5849-4224-4d77-9368-fbad4bb78d16",
   "metadata": {},
   "outputs": [
    {
     "data": {
      "image/png": "[encoded data removed]",
      "text/plain": [
       "Plot with title “”"
      ]
     },
     "metadata": {
      "image/png": {
       "height": 420,
       "width": 420
      }
     },
     "output_type": "display_data"
    }
   ],
   "source": [
    "plotNormalHistogram(huluTV2$seasons)"
   ]
  },
  {
   "cell_type": "code",
   "execution_count": 25,
   "id": "8decd376-874e-4be1-8b28-f900e9b1a4fc",
   "metadata": {},
   "outputs": [],
   "source": [
    "huluTV2$seasonsLOG <- log(huluTV2$seasons)"
   ]
  },
  {
   "cell_type": "code",
   "execution_count": 26,
   "id": "b372b9b1-9c92-465e-a746-c00a6a1d381b",
   "metadata": {},
   "outputs": [
    {
     "data": {
      "image/png": "[encoded data removed]",
      "text/plain": [
       "Plot with title “”"
      ]
     },
     "metadata": {
      "image/png": {
       "height": 420,
       "width": 420
      }
     },
     "output_type": "display_data"
    }
   ],
   "source": [
    "plotNormalHistogram(huluTV2$seasonsLOG)"
   ]
  },
  {
   "cell_type": "markdown",
   "id": "b2d3ee27-8761-4c41-aedc-0ebac12781f7",
   "metadata": {},
   "source": [
    "#### We have violated Normality"
   ]
  },
  {
   "cell_type": "markdown",
   "id": "4f70906a-215c-4559-9b27-f444841880fb",
   "metadata": {},
   "source": [
    "## Homogeneity of Variance"
   ]
  },
  {
   "cell_type": "code",
   "execution_count": 27,
   "id": "98e1e113-fb9d-4e5c-81ab-7d41dd10f721",
   "metadata": {},
   "outputs": [
    {
     "data": {
      "text/plain": [
       "\n",
       "\tBartlett test of homogeneity of variances\n",
       "\n",
       "data:  seasons by imdb_scoreCAT\n",
       "Bartlett's K-squared = 50.953, df = 2, p-value = 8.623e-12\n"
      ]
     },
     "metadata": {},
     "output_type": "display_data"
    }
   ],
   "source": [
    "bartlett.test(seasons ~ imdb_scoreCAT, data=huluTV2)"
   ]
  },
  {
   "cell_type": "code",
   "execution_count": 28,
   "id": "d0a6f6e4-7c64-4106-b185-f46713e6d699",
   "metadata": {},
   "outputs": [
    {
     "data": {
      "text/plain": [
       "\n",
       "\tBartlett test of homogeneity of variances\n",
       "\n",
       "data:  seasons by tmdb_popularityCAT\n",
       "Bartlett's K-squared = 24.748, df = 4, p-value = 5.653e-05\n"
      ]
     },
     "metadata": {},
     "output_type": "display_data"
    }
   ],
   "source": [
    "bartlett.test(seasons ~ tmdb_popularityCAT, data=huluTV2)"
   ]
  },
  {
   "cell_type": "markdown",
   "id": "61db76b1-f76f-4171-bd9f-d122485f42dc",
   "metadata": {},
   "source": [
    "#### We have violated the Homogeneity of Variance"
   ]
  },
  {
   "cell_type": "markdown",
   "id": "c61a6af8-aa7e-4e95-a9f7-309f5c967ded",
   "metadata": {
    "tags": []
   },
   "source": [
    "## Run the ANOVA"
   ]
  },
  {
   "cell_type": "markdown",
   "id": "55f17d81-891d-4012-8a14-b039ece2efd5",
   "metadata": {},
   "source": [
    "#### IMDB Score"
   ]
  },
  {
   "cell_type": "code",
   "execution_count": 29,
   "id": "27e4d54e-f3f7-4233-9a0a-dfc2fcb3ff73",
   "metadata": {},
   "outputs": [
    {
     "name": "stderr",
     "output_type": "stream",
     "text": [
      "Coefficient covariances computed by hccm()\n",
      "\n"
     ]
    },
    {
     "data": {
      "text/html": [
       "<table class=\"dataframe\">\n",
       "<caption>A anova: 2 × 3</caption>\n",
       "<thead>\n",
       "\t<tr><th></th><th scope=col>Df</th><th scope=col>F</th><th scope=col>Pr(&gt;F)</th></tr>\n",
       "\t<tr><th></th><th scope=col>&lt;dbl&gt;</th><th scope=col>&lt;dbl&gt;</th><th scope=col>&lt;dbl&gt;</th></tr>\n",
       "</thead>\n",
       "<tbody>\n",
       "\t<tr><th scope=row>imdb_scoreCAT</th><td>   2</td><td>1.5458</td><td>0.2136146</td></tr>\n",
       "\t<tr><th scope=row>Residuals</th><td>1075</td><td>    NA</td><td>       NA</td></tr>\n",
       "</tbody>\n",
       "</table>\n"
      ],
      "text/latex": [
       "A anova: 2 × 3\n",
       "\\begin{tabular}{r|lll}\n",
       "  & Df & F & Pr(>F)\\\\\n",
       "  & <dbl> & <dbl> & <dbl>\\\\\n",
       "\\hline\n",
       "\timdb\\_scoreCAT &    2 & 1.5458 & 0.2136146\\\\\n",
       "\tResiduals & 1075 &     NA &        NA\\\\\n",
       "\\end{tabular}\n"
      ],
      "text/markdown": [
       "\n",
       "A anova: 2 × 3\n",
       "\n",
       "| <!--/--> | Df &lt;dbl&gt; | F &lt;dbl&gt; | Pr(&gt;F) &lt;dbl&gt; |\n",
       "|---|---|---|---|\n",
       "| imdb_scoreCAT |    2 | 1.5458 | 0.2136146 |\n",
       "| Residuals | 1075 |     NA |        NA |\n",
       "\n"
      ],
      "text/plain": [
       "              Df   F      Pr(>F)   \n",
       "imdb_scoreCAT    2 1.5458 0.2136146\n",
       "Residuals     1075     NA        NA"
      ]
     },
     "metadata": {},
     "output_type": "display_data"
    }
   ],
   "source": [
    "ANOVA <- lm(seasonsLOG ~ imdb_scoreCAT, data=huluTV2)\n",
    "Anova(ANOVA, Type=\"II\", white.adjust=TRUE)"
   ]
  },
  {
   "cell_type": "markdown",
   "id": "681ab9b3-53f7-4703-96c2-86ea7428ce73",
   "metadata": {},
   "source": [
    "#### Our p-value is >0.05 so we can assume there is no significant affect that imdb_score has on the seasons for a show"
   ]
  },
  {
   "cell_type": "markdown",
   "id": "5dc55e03-f316-4804-a57d-cd3cc509d174",
   "metadata": {},
   "source": [
    "#### TMDB Popularity"
   ]
  },
  {
   "cell_type": "code",
   "execution_count": 30,
   "id": "4dd3a5ac-869c-4c51-b086-d4140b6fe5b9",
   "metadata": {},
   "outputs": [
    {
     "name": "stderr",
     "output_type": "stream",
     "text": [
      "Coefficient covariances computed by hccm()\n",
      "\n"
     ]
    },
    {
     "data": {
      "text/html": [
       "<table class=\"dataframe\">\n",
       "<caption>A anova: 2 × 3</caption>\n",
       "<thead>\n",
       "\t<tr><th></th><th scope=col>Df</th><th scope=col>F</th><th scope=col>Pr(&gt;F)</th></tr>\n",
       "\t<tr><th></th><th scope=col>&lt;dbl&gt;</th><th scope=col>&lt;dbl&gt;</th><th scope=col>&lt;dbl&gt;</th></tr>\n",
       "</thead>\n",
       "<tbody>\n",
       "\t<tr><th scope=row>tmdb_popularityCAT</th><td>   4</td><td>26.11604</td><td>1.09631e-20</td></tr>\n",
       "\t<tr><th scope=row>Residuals</th><td>1073</td><td>      NA</td><td>         NA</td></tr>\n",
       "</tbody>\n",
       "</table>\n"
      ],
      "text/latex": [
       "A anova: 2 × 3\n",
       "\\begin{tabular}{r|lll}\n",
       "  & Df & F & Pr(>F)\\\\\n",
       "  & <dbl> & <dbl> & <dbl>\\\\\n",
       "\\hline\n",
       "\ttmdb\\_popularityCAT &    4 & 26.11604 & 1.09631e-20\\\\\n",
       "\tResiduals & 1073 &       NA &          NA\\\\\n",
       "\\end{tabular}\n"
      ],
      "text/markdown": [
       "\n",
       "A anova: 2 × 3\n",
       "\n",
       "| <!--/--> | Df &lt;dbl&gt; | F &lt;dbl&gt; | Pr(&gt;F) &lt;dbl&gt; |\n",
       "|---|---|---|---|\n",
       "| tmdb_popularityCAT |    4 | 26.11604 | 1.09631e-20 |\n",
       "| Residuals | 1073 |       NA |          NA |\n",
       "\n"
      ],
      "text/plain": [
       "                   Df   F        Pr(>F)     \n",
       "tmdb_popularityCAT    4 26.11604 1.09631e-20\n",
       "Residuals          1073       NA          NA"
      ]
     },
     "metadata": {},
     "output_type": "display_data"
    }
   ],
   "source": [
    "ANOVA2 <- lm(seasonsLOG ~ tmdb_popularityCAT, data=huluTV2)\n",
    "Anova(ANOVA2, Type=\"II\", white.adjust=TRUE)"
   ]
  },
  {
   "cell_type": "markdown",
   "id": "6ecd512d-cc8a-4e64-81de-4f99683071a2",
   "metadata": {},
   "source": [
    "#### Our p-value is <0.05 so we can assume there is a significant affect that tmdb_popularity has on the seasons of a show."
   ]
  },
  {
   "cell_type": "markdown",
   "id": "0aa37799-16be-43a6-bb41-7663efcbead1",
   "metadata": {},
   "source": [
    "## **********"
   ]
  },
  {
   "cell_type": "markdown",
   "id": "aa7146f7-cd2d-4075-8e7d-fd69731e99aa",
   "metadata": {},
   "source": [
    "# Post Hoc"
   ]
  },
  {
   "cell_type": "code",
   "execution_count": 31,
   "id": "c7dcfbe8-bae7-4eb6-b431-76be61fce8b0",
   "metadata": {},
   "outputs": [
    {
     "data": {
      "text/plain": [
       "\n",
       "\tPairwise comparisons using t tests with pooled SD \n",
       "\n",
       "data:  huluTV2$seasons and huluTV2$imdb_scoreCAT \n",
       "\n",
       "  1       2      \n",
       "2 0.00024 -      \n",
       "3 2.8e-05 0.04938\n",
       "\n",
       "P value adjustment method: none "
      ]
     },
     "metadata": {},
     "output_type": "display_data"
    }
   ],
   "source": [
    "pairwise.t.test(huluTV2$seasons, huluTV2$imdb_scoreCAT, p.adjust=\"none\")"
   ]
  },
  {
   "cell_type": "markdown",
   "id": "5618a4bb-c84c-4ff6-8c80-69d70dd0aaec",
   "metadata": {
    "tags": []
   },
   "source": [
    "#### IMDB Scores have an impact until they reach the higher scores, then seems to have little impact"
   ]
  },
  {
   "cell_type": "code",
   "execution_count": 32,
   "id": "930b3fe3-7505-41fe-94fd-7a7136bb5ddb",
   "metadata": {},
   "outputs": [
    {
     "data": {
      "text/plain": [
       "\n",
       "\tPairwise comparisons using t tests with pooled SD \n",
       "\n",
       "data:  huluTV2$seasons and huluTV2$tmdb_popularityCAT \n",
       "\n",
       "  1       2      3      4     \n",
       "2 2.3e-06 -      -      -     \n",
       "3 3.0e-07 0.1154 -      -     \n",
       "4 0.0018  0.0529 0.2088 -     \n",
       "5 0.3092  0.8991 0.4553 0.1339\n",
       "\n",
       "P value adjustment method: none "
      ]
     },
     "metadata": {},
     "output_type": "display_data"
    }
   ],
   "source": [
    "pairwise.t.test(huluTV2$seasons, huluTV2$tmdb_popularityCAT, p.adjust=\"none\")"
   ]
  },
  {
   "cell_type": "markdown",
   "id": "3895a780-ea8c-4f31-adec-46d2e42a2177",
   "metadata": {},
   "source": [
    "#### Tmdb popularity has significant impact 200 and then after 1000."
   ]
  },
  {
   "cell_type": "markdown",
   "id": "eb1c8c8b-32a8-423f-9c98-9e053f6e80d3",
   "metadata": {},
   "source": [
    "# Conclusions"
   ]
  },
  {
   "cell_type": "code",
   "execution_count": 33,
   "id": "c35acd8d-fbd5-4a0f-bdc9-937ae4b30c04",
   "metadata": {},
   "outputs": [
    {
     "data": {
      "text/html": [
       "<table class=\"dataframe\">\n",
       "<caption>A tibble: 3 × 2</caption>\n",
       "<thead>\n",
       "\t<tr><th scope=col>imdb_scoreCAT</th><th scope=col>Mean</th></tr>\n",
       "\t<tr><th scope=col>&lt;fct&gt;</th><th scope=col>&lt;dbl&gt;</th></tr>\n",
       "</thead>\n",
       "<tbody>\n",
       "\t<tr><td>1</td><td>13.166667</td></tr>\n",
       "\t<tr><td>2</td><td> 5.093023</td></tr>\n",
       "\t<tr><td>3</td><td> 4.123012</td></tr>\n",
       "</tbody>\n",
       "</table>\n"
      ],
      "text/latex": [
       "A tibble: 3 × 2\n",
       "\\begin{tabular}{ll}\n",
       " imdb\\_scoreCAT & Mean\\\\\n",
       " <fct> & <dbl>\\\\\n",
       "\\hline\n",
       "\t 1 & 13.166667\\\\\n",
       "\t 2 &  5.093023\\\\\n",
       "\t 3 &  4.123012\\\\\n",
       "\\end{tabular}\n"
      ],
      "text/markdown": [
       "\n",
       "A tibble: 3 × 2\n",
       "\n",
       "| imdb_scoreCAT &lt;fct&gt; | Mean &lt;dbl&gt; |\n",
       "|---|---|\n",
       "| 1 | 13.166667 |\n",
       "| 2 |  5.093023 |\n",
       "| 3 |  4.123012 |\n",
       "\n"
      ],
      "text/plain": [
       "  imdb_scoreCAT Mean     \n",
       "1 1             13.166667\n",
       "2 2              5.093023\n",
       "3 3              4.123012"
      ]
     },
     "metadata": {},
     "output_type": "display_data"
    }
   ],
   "source": [
    "huluTVmean <- huluTV2 %>% group_by(imdb_scoreCAT) %>% summarize(Mean = mean(seasons))\n",
    "huluTVmean"
   ]
  },
  {
   "cell_type": "code",
   "execution_count": 34,
   "id": "d2dc1c4d-1fe6-4369-a291-4c6b7ba8ae9b",
   "metadata": {},
   "outputs": [
    {
     "data": {
      "text/html": [
       "<table class=\"dataframe\">\n",
       "<caption>A tibble: 5 × 2</caption>\n",
       "<thead>\n",
       "\t<tr><th scope=col>tmdb_popularityCAT</th><th scope=col>Mean</th></tr>\n",
       "\t<tr><th scope=col>&lt;fct&gt;</th><th scope=col>&lt;dbl&gt;</th></tr>\n",
       "</thead>\n",
       "<tbody>\n",
       "\t<tr><td>1</td><td> 3.957704</td></tr>\n",
       "\t<tr><td>2</td><td> 7.388889</td></tr>\n",
       "\t<tr><td>3</td><td> 9.360000</td></tr>\n",
       "\t<tr><td>4</td><td>13.333333</td></tr>\n",
       "\t<tr><td>5</td><td> 7.000000</td></tr>\n",
       "</tbody>\n",
       "</table>\n"
      ],
      "text/latex": [
       "A tibble: 5 × 2\n",
       "\\begin{tabular}{ll}\n",
       " tmdb\\_popularityCAT & Mean\\\\\n",
       " <fct> & <dbl>\\\\\n",
       "\\hline\n",
       "\t 1 &  3.957704\\\\\n",
       "\t 2 &  7.388889\\\\\n",
       "\t 3 &  9.360000\\\\\n",
       "\t 4 & 13.333333\\\\\n",
       "\t 5 &  7.000000\\\\\n",
       "\\end{tabular}\n"
      ],
      "text/markdown": [
       "\n",
       "A tibble: 5 × 2\n",
       "\n",
       "| tmdb_popularityCAT &lt;fct&gt; | Mean &lt;dbl&gt; |\n",
       "|---|---|\n",
       "| 1 |  3.957704 |\n",
       "| 2 |  7.388889 |\n",
       "| 3 |  9.360000 |\n",
       "| 4 | 13.333333 |\n",
       "| 5 |  7.000000 |\n",
       "\n"
      ],
      "text/plain": [
       "  tmdb_popularityCAT Mean     \n",
       "1 1                   3.957704\n",
       "2 2                   7.388889\n",
       "3 3                   9.360000\n",
       "4 4                  13.333333\n",
       "5 5                   7.000000"
      ]
     },
     "metadata": {},
     "output_type": "display_data"
    }
   ],
   "source": [
    "huluTVmean2 <- huluTV2 %>% group_by(tmdb_popularityCAT) %>% summarize(Mean = mean(seasons))\n",
    "huluTVmean2"
   ]
  },
  {
   "cell_type": "markdown",
   "id": "7805a39c-8572-4490-9bfb-5d758445d1b2",
   "metadata": {},
   "source": [
    "# Final Conclusion\n",
    "## imdb_scores: 1 = (0-3), 2 = (4-6), 3 = (7-10)\n",
    "# Shows with a lower imdb_score tend to have more seasons on average\n",
    "\n",
    "## tmdb_popularity: 1 = (0-100), 2 = (101-200), 3 = (201-500), 4 = (501-1000), 5 = (1001-3000)\n",
    "# Shows ranked between 1000-3000 have significantly more seasons. Triple at the least the others at the very least."
   ]
  },
  {
   "cell_type": "markdown",
   "id": "54cde023-d5f9-4bee-917e-0fcaa717e8b4",
   "metadata": {},
   "source": [
    "# Export Data"
   ]
  },
  {
   "cell_type": "markdown",
   "id": "d380b8c2-e4aa-4847-905c-dc9720323b01",
   "metadata": {},
   "source": [
    "## Separate data for export into Tableau & delete duplicate entries"
   ]
  },
  {
   "cell_type": "markdown",
   "id": "5d35dbc1-7b67-4059-affa-c989c41a3bf5",
   "metadata": {},
   "source": [
    "## Scores"
   ]
  },
  {
   "cell_type": "code",
   "execution_count": 35,
   "id": "13238040-ac24-4181-b1b1-ebe363455f7a",
   "metadata": {},
   "outputs": [],
   "source": [
    "keeps <- c(\"title\", \"imdb_score\", \"seasons\")\n",
    "huluScores <- huluTV[keeps]"
   ]
  },
  {
   "cell_type": "code",
   "execution_count": 36,
   "id": "f9810188-38f0-451f-86a1-e8112a3716d6",
   "metadata": {},
   "outputs": [],
   "source": [
    "huluScores1 <- distinct(huluScores)"
   ]
  },
  {
   "cell_type": "code",
   "execution_count": 37,
   "id": "283f2c91-d6bd-4c82-a1a1-13a90ef0f97a",
   "metadata": {},
   "outputs": [
    {
     "data": {
      "text/html": [
       "8820"
      ],
      "text/latex": [
       "8820"
      ],
      "text/markdown": [
       "8820"
      ],
      "text/plain": [
       "[1] 8820"
      ]
     },
     "metadata": {},
     "output_type": "display_data"
    },
    {
     "data": {
      "text/html": [
       "1078"
      ],
      "text/latex": [
       "1078"
      ],
      "text/markdown": [
       "1078"
      ],
      "text/plain": [
       "[1] 1078"
      ]
     },
     "metadata": {},
     "output_type": "display_data"
    }
   ],
   "source": [
    "nrow(huluScores)\n",
    "nrow(huluScores1)"
   ]
  },
  {
   "cell_type": "code",
   "execution_count": 38,
   "id": "eeebb2a8-3298-468b-9e0c-24d2ebc624dd",
   "metadata": {},
   "outputs": [],
   "source": [
    "huluScores2 <- arrange(huluScores1, desc(imdb_score))"
   ]
  },
  {
   "cell_type": "code",
   "execution_count": null,
   "id": "62056d4d-6ede-403d-86d1-3b1cd076519a",
   "metadata": {},
   "outputs": [],
   "source": [
    "huluScoresLow <- arrange(huluScores1,asc(imdb_score))"
   ]
  },
  {
   "cell_type": "markdown",
   "id": "4e7a4e98-a1d6-4ea5-9d29-57d4b24f6773",
   "metadata": {},
   "source": [
    "### Bottom 10 by imdb score"
   ]
  },
  {
   "cell_type": "code",
   "execution_count": 52,
   "id": "acd21d12-a8c0-4e17-8f94-4a9ab1ce5524",
   "metadata": {},
   "outputs": [
    {
     "data": {
      "text/html": [
       "<table class=\"dataframe\">\n",
       "<caption>A data.frame: 10 × 3</caption>\n",
       "<thead>\n",
       "\t<tr><th></th><th scope=col>title</th><th scope=col>imdb_score</th><th scope=col>seasons</th></tr>\n",
       "\t<tr><th></th><th scope=col>&lt;chr&gt;</th><th scope=col>&lt;dbl&gt;</th><th scope=col>&lt;dbl&gt;</th></tr>\n",
       "</thead>\n",
       "<tbody>\n",
       "\t<tr><th scope=row>1</th><td>Attaway General                </td><td>1.0</td><td> 3</td></tr>\n",
       "\t<tr><th scope=row>2</th><td>The Only Way Is Essex          </td><td>2.2</td><td>28</td></tr>\n",
       "\t<tr><th scope=row>3</th><td>The View                       </td><td>2.5</td><td>25</td></tr>\n",
       "\t<tr><th scope=row>4</th><td>HobbyKids Adventures           </td><td>2.7</td><td> 2</td></tr>\n",
       "\t<tr><th scope=row>5</th><td>Keeping Up with the Kardashians</td><td>2.7</td><td>20</td></tr>\n",
       "\t<tr><th scope=row>6</th><td>The D'Amelio Show              </td><td>2.7</td><td> 1</td></tr>\n",
       "\t<tr><th scope=row>7</th><td>The Bachelor                   </td><td>3.1</td><td>26</td></tr>\n",
       "\t<tr><th scope=row>8</th><td>The Bachelorette               </td><td>3.3</td><td>18</td></tr>\n",
       "\t<tr><th scope=row>9</th><td>I Am Cait                      </td><td>3.5</td><td> 2</td></tr>\n",
       "\t<tr><th scope=row>10</th><td>The Powerpuff Girls            </td><td>3.5</td><td> 3</td></tr>\n",
       "</tbody>\n",
       "</table>\n"
      ],
      "text/latex": [
       "A data.frame: 10 × 3\n",
       "\\begin{tabular}{r|lll}\n",
       "  & title & imdb\\_score & seasons\\\\\n",
       "  & <chr> & <dbl> & <dbl>\\\\\n",
       "\\hline\n",
       "\t1 & Attaway General                 & 1.0 &  3\\\\\n",
       "\t2 & The Only Way Is Essex           & 2.2 & 28\\\\\n",
       "\t3 & The View                        & 2.5 & 25\\\\\n",
       "\t4 & HobbyKids Adventures            & 2.7 &  2\\\\\n",
       "\t5 & Keeping Up with the Kardashians & 2.7 & 20\\\\\n",
       "\t6 & The D'Amelio Show               & 2.7 &  1\\\\\n",
       "\t7 & The Bachelor                    & 3.1 & 26\\\\\n",
       "\t8 & The Bachelorette                & 3.3 & 18\\\\\n",
       "\t9 & I Am Cait                       & 3.5 &  2\\\\\n",
       "\t10 & The Powerpuff Girls             & 3.5 &  3\\\\\n",
       "\\end{tabular}\n"
      ],
      "text/markdown": [
       "\n",
       "A data.frame: 10 × 3\n",
       "\n",
       "| <!--/--> | title &lt;chr&gt; | imdb_score &lt;dbl&gt; | seasons &lt;dbl&gt; |\n",
       "|---|---|---|---|\n",
       "| 1 | Attaway General                 | 1.0 |  3 |\n",
       "| 2 | The Only Way Is Essex           | 2.2 | 28 |\n",
       "| 3 | The View                        | 2.5 | 25 |\n",
       "| 4 | HobbyKids Adventures            | 2.7 |  2 |\n",
       "| 5 | Keeping Up with the Kardashians | 2.7 | 20 |\n",
       "| 6 | The D'Amelio Show               | 2.7 |  1 |\n",
       "| 7 | The Bachelor                    | 3.1 | 26 |\n",
       "| 8 | The Bachelorette                | 3.3 | 18 |\n",
       "| 9 | I Am Cait                       | 3.5 |  2 |\n",
       "| 10 | The Powerpuff Girls             | 3.5 |  3 |\n",
       "\n"
      ],
      "text/plain": [
       "   title                           imdb_score seasons\n",
       "1  Attaway General                 1.0         3     \n",
       "2  The Only Way Is Essex           2.2        28     \n",
       "3  The View                        2.5        25     \n",
       "4  HobbyKids Adventures            2.7         2     \n",
       "5  Keeping Up with the Kardashians 2.7        20     \n",
       "6  The D'Amelio Show               2.7         1     \n",
       "7  The Bachelor                    3.1        26     \n",
       "8  The Bachelorette                3.3        18     \n",
       "9  I Am Cait                       3.5         2     \n",
       "10 The Powerpuff Girls             3.5         3     "
      ]
     },
     "metadata": {},
     "output_type": "display_data"
    }
   ],
   "source": [
    "huluScoresLow1 <- huluScoresLow[1:10,1:3]\n",
    "View(huluScoresLow1)"
   ]
  },
  {
   "cell_type": "markdown",
   "id": "2d030336-c748-402f-9799-4e53a7b26a47",
   "metadata": {},
   "source": [
    "### Top 10 by imdb score"
   ]
  },
  {
   "cell_type": "code",
   "execution_count": 39,
   "id": "9899bb8e-94eb-498d-88bc-d1ad821dc69d",
   "metadata": {},
   "outputs": [
    {
     "data": {
      "text/html": [
       "<table class=\"dataframe\">\n",
       "<caption>A data.frame: 10 × 3</caption>\n",
       "<thead>\n",
       "\t<tr><th></th><th scope=col>title</th><th scope=col>imdb_score</th><th scope=col>seasons</th></tr>\n",
       "\t<tr><th></th><th scope=col>&lt;chr&gt;</th><th scope=col>&lt;dbl&gt;</th><th scope=col>&lt;dbl&gt;</th></tr>\n",
       "</thead>\n",
       "<tbody>\n",
       "\t<tr><th scope=row>1</th><td>The Joy of Painting                       </td><td>9.3</td><td>31</td></tr>\n",
       "\t<tr><th scope=row>2</th><td>9/11: One Day in America                  </td><td>9.3</td><td> 1</td></tr>\n",
       "\t<tr><th scope=row>3</th><td>Rick and Morty                            </td><td>9.2</td><td> 5</td></tr>\n",
       "\t<tr><th scope=row>4</th><td>Fullmetal Alchemist: Brotherhood          </td><td>9.1</td><td> 1</td></tr>\n",
       "\t<tr><th scope=row>5</th><td>DEATH NOTE                                </td><td>9.0</td><td> 1</td></tr>\n",
       "\t<tr><th scope=row>6</th><td>Attack on Titan                           </td><td>9.0</td><td> 4</td></tr>\n",
       "\t<tr><th scope=row>7</th><td>Firefly                                   </td><td>9.0</td><td> 1</td></tr>\n",
       "\t<tr><th scope=row>8</th><td>SPY x FAMILY                              </td><td>9.0</td><td> 1</td></tr>\n",
       "\t<tr><th scope=row>9</th><td>Hunter x Hunter                           </td><td>9.0</td><td> 3</td></tr>\n",
       "\t<tr><th scope=row>10</th><td>Leah Remini: Scientology and the Aftermath</td><td>9.0</td><td> 3</td></tr>\n",
       "</tbody>\n",
       "</table>\n"
      ],
      "text/latex": [
       "A data.frame: 10 × 3\n",
       "\\begin{tabular}{r|lll}\n",
       "  & title & imdb\\_score & seasons\\\\\n",
       "  & <chr> & <dbl> & <dbl>\\\\\n",
       "\\hline\n",
       "\t1 & The Joy of Painting                        & 9.3 & 31\\\\\n",
       "\t2 & 9/11: One Day in America                   & 9.3 &  1\\\\\n",
       "\t3 & Rick and Morty                             & 9.2 &  5\\\\\n",
       "\t4 & Fullmetal Alchemist: Brotherhood           & 9.1 &  1\\\\\n",
       "\t5 & DEATH NOTE                                 & 9.0 &  1\\\\\n",
       "\t6 & Attack on Titan                            & 9.0 &  4\\\\\n",
       "\t7 & Firefly                                    & 9.0 &  1\\\\\n",
       "\t8 & SPY x FAMILY                               & 9.0 &  1\\\\\n",
       "\t9 & Hunter x Hunter                            & 9.0 &  3\\\\\n",
       "\t10 & Leah Remini: Scientology and the Aftermath & 9.0 &  3\\\\\n",
       "\\end{tabular}\n"
      ],
      "text/markdown": [
       "\n",
       "A data.frame: 10 × 3\n",
       "\n",
       "| <!--/--> | title &lt;chr&gt; | imdb_score &lt;dbl&gt; | seasons &lt;dbl&gt; |\n",
       "|---|---|---|---|\n",
       "| 1 | The Joy of Painting                        | 9.3 | 31 |\n",
       "| 2 | 9/11: One Day in America                   | 9.3 |  1 |\n",
       "| 3 | Rick and Morty                             | 9.2 |  5 |\n",
       "| 4 | Fullmetal Alchemist: Brotherhood           | 9.1 |  1 |\n",
       "| 5 | DEATH NOTE                                 | 9.0 |  1 |\n",
       "| 6 | Attack on Titan                            | 9.0 |  4 |\n",
       "| 7 | Firefly                                    | 9.0 |  1 |\n",
       "| 8 | SPY x FAMILY                               | 9.0 |  1 |\n",
       "| 9 | Hunter x Hunter                            | 9.0 |  3 |\n",
       "| 10 | Leah Remini: Scientology and the Aftermath | 9.0 |  3 |\n",
       "\n"
      ],
      "text/plain": [
       "   title                                      imdb_score seasons\n",
       "1  The Joy of Painting                        9.3        31     \n",
       "2  9/11: One Day in America                   9.3         1     \n",
       "3  Rick and Morty                             9.2         5     \n",
       "4  Fullmetal Alchemist: Brotherhood           9.1         1     \n",
       "5  DEATH NOTE                                 9.0         1     \n",
       "6  Attack on Titan                            9.0         4     \n",
       "7  Firefly                                    9.0         1     \n",
       "8  SPY x FAMILY                               9.0         1     \n",
       "9  Hunter x Hunter                            9.0         3     \n",
       "10 Leah Remini: Scientology and the Aftermath 9.0         3     "
      ]
     },
     "metadata": {},
     "output_type": "display_data"
    }
   ],
   "source": [
    "huluScores3 <- huluScores2[1:10,1:3]\n",
    "View(huluScores3)"
   ]
  },
  {
   "cell_type": "markdown",
   "id": "fd56f30c-e7e3-4282-93a9-1019221aa90b",
   "metadata": {},
   "source": [
    "### Bottom 10 by Pop"
   ]
  },
  {
   "cell_type": "code",
   "execution_count": 54,
   "id": "10fece0c-8c9f-4da8-8615-d784705b5076",
   "metadata": {},
   "outputs": [],
   "source": [
    "huluPopLow <- arrange(huluPop1, tmdb_popularity)"
   ]
  },
  {
   "cell_type": "code",
   "execution_count": 55,
   "id": "819b77db-01c7-41a5-8d35-29a2f8379a3b",
   "metadata": {},
   "outputs": [
    {
     "data": {
      "text/html": [
       "<table class=\"dataframe\">\n",
       "<caption>A data.frame: 10 × 3</caption>\n",
       "<thead>\n",
       "\t<tr><th></th><th scope=col>title</th><th scope=col>tmdb_popularity</th><th scope=col>seasons</th></tr>\n",
       "\t<tr><th></th><th scope=col>&lt;chr&gt;</th><th scope=col>&lt;dbl&gt;</th><th scope=col>&lt;dbl&gt;</th></tr>\n",
       "</thead>\n",
       "<tbody>\n",
       "\t<tr><th scope=row>1</th><td>HobbyKids Adventures</td><td>0.600</td><td>2</td></tr>\n",
       "\t<tr><th scope=row>2</th><td>A3                  </td><td>0.600</td><td>1</td></tr>\n",
       "\t<tr><th scope=row>3</th><td>A Christmas Carol   </td><td>0.600</td><td>1</td></tr>\n",
       "\t<tr><th scope=row>4</th><td>Impossible Builds   </td><td>0.600</td><td>1</td></tr>\n",
       "\t<tr><th scope=row>5</th><td>Dead By Dawn        </td><td>0.600</td><td>1</td></tr>\n",
       "\t<tr><th scope=row>6</th><td>Psychic Kids        </td><td>0.635</td><td>3</td></tr>\n",
       "\t<tr><th scope=row>7</th><td>Littlekenny         </td><td>0.644</td><td>1</td></tr>\n",
       "\t<tr><th scope=row>8</th><td>Game Of Talents     </td><td>0.682</td><td>1</td></tr>\n",
       "\t<tr><th scope=row>9</th><td>Road Trip           </td><td>0.728</td><td>2</td></tr>\n",
       "\t<tr><th scope=row>10</th><td>A Day in the Life   </td><td>0.745</td><td>2</td></tr>\n",
       "</tbody>\n",
       "</table>\n"
      ],
      "text/latex": [
       "A data.frame: 10 × 3\n",
       "\\begin{tabular}{r|lll}\n",
       "  & title & tmdb\\_popularity & seasons\\\\\n",
       "  & <chr> & <dbl> & <dbl>\\\\\n",
       "\\hline\n",
       "\t1 & HobbyKids Adventures & 0.600 & 2\\\\\n",
       "\t2 & A3                   & 0.600 & 1\\\\\n",
       "\t3 & A Christmas Carol    & 0.600 & 1\\\\\n",
       "\t4 & Impossible Builds    & 0.600 & 1\\\\\n",
       "\t5 & Dead By Dawn         & 0.600 & 1\\\\\n",
       "\t6 & Psychic Kids         & 0.635 & 3\\\\\n",
       "\t7 & Littlekenny          & 0.644 & 1\\\\\n",
       "\t8 & Game Of Talents      & 0.682 & 1\\\\\n",
       "\t9 & Road Trip            & 0.728 & 2\\\\\n",
       "\t10 & A Day in the Life    & 0.745 & 2\\\\\n",
       "\\end{tabular}\n"
      ],
      "text/markdown": [
       "\n",
       "A data.frame: 10 × 3\n",
       "\n",
       "| <!--/--> | title &lt;chr&gt; | tmdb_popularity &lt;dbl&gt; | seasons &lt;dbl&gt; |\n",
       "|---|---|---|---|\n",
       "| 1 | HobbyKids Adventures | 0.600 | 2 |\n",
       "| 2 | A3                   | 0.600 | 1 |\n",
       "| 3 | A Christmas Carol    | 0.600 | 1 |\n",
       "| 4 | Impossible Builds    | 0.600 | 1 |\n",
       "| 5 | Dead By Dawn         | 0.600 | 1 |\n",
       "| 6 | Psychic Kids         | 0.635 | 3 |\n",
       "| 7 | Littlekenny          | 0.644 | 1 |\n",
       "| 8 | Game Of Talents      | 0.682 | 1 |\n",
       "| 9 | Road Trip            | 0.728 | 2 |\n",
       "| 10 | A Day in the Life    | 0.745 | 2 |\n",
       "\n"
      ],
      "text/plain": [
       "   title                tmdb_popularity seasons\n",
       "1  HobbyKids Adventures 0.600           2      \n",
       "2  A3                   0.600           1      \n",
       "3  A Christmas Carol    0.600           1      \n",
       "4  Impossible Builds    0.600           1      \n",
       "5  Dead By Dawn         0.600           1      \n",
       "6  Psychic Kids         0.635           3      \n",
       "7  Littlekenny          0.644           1      \n",
       "8  Game Of Talents      0.682           1      \n",
       "9  Road Trip            0.728           2      \n",
       "10 A Day in the Life    0.745           2      "
      ]
     },
     "metadata": {},
     "output_type": "display_data"
    }
   ],
   "source": [
    "huluPopLow1 <- huluPopLow[1:10,1:3]\n",
    "View(huluPopLow1)"
   ]
  },
  {
   "cell_type": "markdown",
   "id": "b8c925bc-6ab5-4189-af98-a016619e9d63",
   "metadata": {},
   "source": [
    "## Popularity"
   ]
  },
  {
   "cell_type": "code",
   "execution_count": 40,
   "id": "44930ad1-b962-4d75-97a2-ce7157aa788d",
   "metadata": {},
   "outputs": [],
   "source": [
    "keeps1 <- c(\"title\", \"tmdb_popularity\", \"seasons\")"
   ]
  },
  {
   "cell_type": "code",
   "execution_count": 41,
   "id": "16ddf80f-d5f3-409c-9971-7eced144fb54",
   "metadata": {},
   "outputs": [],
   "source": [
    "huluPop <- huluTV[keeps1]\n",
    "huluPop1 <- distinct(huluPop)"
   ]
  },
  {
   "cell_type": "code",
   "execution_count": 42,
   "id": "71653524-94f2-43bf-a2fa-ec9ed4b042db",
   "metadata": {},
   "outputs": [
    {
     "data": {
      "text/html": [
       "8820"
      ],
      "text/latex": [
       "8820"
      ],
      "text/markdown": [
       "8820"
      ],
      "text/plain": [
       "[1] 8820"
      ]
     },
     "metadata": {},
     "output_type": "display_data"
    },
    {
     "data": {
      "text/html": [
       "1078"
      ],
      "text/latex": [
       "1078"
      ],
      "text/markdown": [
       "1078"
      ],
      "text/plain": [
       "[1] 1078"
      ]
     },
     "metadata": {},
     "output_type": "display_data"
    }
   ],
   "source": [
    "nrow(huluPop)\n",
    "nrow(huluPop1)"
   ]
  },
  {
   "cell_type": "code",
   "execution_count": 43,
   "id": "ae18e8cd-a43f-49af-90aa-8d18b2193799",
   "metadata": {},
   "outputs": [],
   "source": [
    "huluPop2 <- arrange(huluPop1, desc(tmdb_popularity))"
   ]
  },
  {
   "cell_type": "markdown",
   "id": "56dcb865-1de2-4580-b728-dfb5dbee49d8",
   "metadata": {},
   "source": [
    "### Top 10 by tmdb popularity"
   ]
  },
  {
   "cell_type": "code",
   "execution_count": 44,
   "id": "e334d561-63c4-49e7-b8dd-2a1b909f3734",
   "metadata": {},
   "outputs": [
    {
     "data": {
      "text/html": [
       "<table class=\"dataframe\">\n",
       "<caption>A data.frame: 10 × 3</caption>\n",
       "<thead>\n",
       "\t<tr><th></th><th scope=col>title</th><th scope=col>tmdb_popularity</th><th scope=col>seasons</th></tr>\n",
       "\t<tr><th></th><th scope=col>&lt;chr&gt;</th><th scope=col>&lt;dbl&gt;</th><th scope=col>&lt;dbl&gt;</th></tr>\n",
       "</thead>\n",
       "<tbody>\n",
       "\t<tr><th scope=row>1</th><td>Hidden Passion                   </td><td>2989.846</td><td> 2</td></tr>\n",
       "\t<tr><th scope=row>2</th><td>Grey's Anatomy                   </td><td>1215.393</td><td>18</td></tr>\n",
       "\t<tr><th scope=row>3</th><td>SPY x FAMILY                     </td><td>1199.380</td><td> 1</td></tr>\n",
       "\t<tr><th scope=row>4</th><td>The Good Doctor                  </td><td> 756.034</td><td> 5</td></tr>\n",
       "\t<tr><th scope=row>5</th><td>The Kardashians                  </td><td> 681.069</td><td> 1</td></tr>\n",
       "\t<tr><th scope=row>6</th><td>The Simpsons                     </td><td> 516.381</td><td>34</td></tr>\n",
       "\t<tr><th scope=row>7</th><td>Law &amp; Order: Special Victims Unit</td><td> 451.723</td><td>24</td></tr>\n",
       "\t<tr><th scope=row>8</th><td>S.W.A.T.                         </td><td> 439.647</td><td> 6</td></tr>\n",
       "\t<tr><th scope=row>9</th><td>The Lord of the Skies            </td><td> 425.484</td><td> 7</td></tr>\n",
       "\t<tr><th scope=row>10</th><td>Dragon Ball Super                </td><td> 423.650</td><td> 5</td></tr>\n",
       "</tbody>\n",
       "</table>\n"
      ],
      "text/latex": [
       "A data.frame: 10 × 3\n",
       "\\begin{tabular}{r|lll}\n",
       "  & title & tmdb\\_popularity & seasons\\\\\n",
       "  & <chr> & <dbl> & <dbl>\\\\\n",
       "\\hline\n",
       "\t1 & Hidden Passion                    & 2989.846 &  2\\\\\n",
       "\t2 & Grey's Anatomy                    & 1215.393 & 18\\\\\n",
       "\t3 & SPY x FAMILY                      & 1199.380 &  1\\\\\n",
       "\t4 & The Good Doctor                   &  756.034 &  5\\\\\n",
       "\t5 & The Kardashians                   &  681.069 &  1\\\\\n",
       "\t6 & The Simpsons                      &  516.381 & 34\\\\\n",
       "\t7 & Law \\& Order: Special Victims Unit &  451.723 & 24\\\\\n",
       "\t8 & S.W.A.T.                          &  439.647 &  6\\\\\n",
       "\t9 & The Lord of the Skies             &  425.484 &  7\\\\\n",
       "\t10 & Dragon Ball Super                 &  423.650 &  5\\\\\n",
       "\\end{tabular}\n"
      ],
      "text/markdown": [
       "\n",
       "A data.frame: 10 × 3\n",
       "\n",
       "| <!--/--> | title &lt;chr&gt; | tmdb_popularity &lt;dbl&gt; | seasons &lt;dbl&gt; |\n",
       "|---|---|---|---|\n",
       "| 1 | Hidden Passion                    | 2989.846 |  2 |\n",
       "| 2 | Grey's Anatomy                    | 1215.393 | 18 |\n",
       "| 3 | SPY x FAMILY                      | 1199.380 |  1 |\n",
       "| 4 | The Good Doctor                   |  756.034 |  5 |\n",
       "| 5 | The Kardashians                   |  681.069 |  1 |\n",
       "| 6 | The Simpsons                      |  516.381 | 34 |\n",
       "| 7 | Law &amp; Order: Special Victims Unit |  451.723 | 24 |\n",
       "| 8 | S.W.A.T.                          |  439.647 |  6 |\n",
       "| 9 | The Lord of the Skies             |  425.484 |  7 |\n",
       "| 10 | Dragon Ball Super                 |  423.650 |  5 |\n",
       "\n"
      ],
      "text/plain": [
       "   title                             tmdb_popularity seasons\n",
       "1  Hidden Passion                    2989.846         2     \n",
       "2  Grey's Anatomy                    1215.393        18     \n",
       "3  SPY x FAMILY                      1199.380         1     \n",
       "4  The Good Doctor                    756.034         5     \n",
       "5  The Kardashians                    681.069         1     \n",
       "6  The Simpsons                       516.381        34     \n",
       "7  Law & Order: Special Victims Unit  451.723        24     \n",
       "8  S.W.A.T.                           439.647         6     \n",
       "9  The Lord of the Skies              425.484         7     \n",
       "10 Dragon Ball Super                  423.650         5     "
      ]
     },
     "metadata": {},
     "output_type": "display_data"
    }
   ],
   "source": [
    "huluPop3 <- huluPop2[1:10,1:3]\n",
    "View(huluPop3) "
   ]
  },
  {
   "cell_type": "code",
   "execution_count": 45,
   "id": "8a14f276-80f4-47b9-a84b-bc661237fafc",
   "metadata": {},
   "outputs": [],
   "source": [
    "write.csv(huluTV2,\"C:\\\\Users\\\\michaelwilt\\\\Desktop\\\\Bethel\\\\Project\\\\Contest\\\\huluTV.csv\", row.names = FALSE)"
   ]
  },
  {
   "cell_type": "code",
   "execution_count": 46,
   "id": "1166ca76-878e-4b45-beae-680a34b68d85",
   "metadata": {},
   "outputs": [],
   "source": [
    "write.csv(huluScores3,\"C:\\\\Users\\\\michaelwilt\\\\Desktop\\\\Bethel\\\\Project\\\\Contest\\\\huluScores.csv\", row.names = FALSE)"
   ]
  },
  {
   "cell_type": "code",
   "execution_count": 47,
   "id": "ae4f77e0-c210-4c1d-8b3d-6333cf6949b3",
   "metadata": {},
   "outputs": [],
   "source": [
    "write.csv(huluPop3,\"C:\\\\Users\\\\michaelwilt\\\\Desktop\\\\Bethel\\\\Project\\\\Contest\\\\huluPop.csv\", row.names = FALSE)"
   ]
  },
  {
   "cell_type": "code",
   "execution_count": 56,
   "id": "362245e8-ef27-4575-b4d2-383e9d1d4095",
   "metadata": {},
   "outputs": [],
   "source": [
    "write.csv(huluScoresLow,\"C:\\\\Users\\\\michaelwilt\\\\Desktop\\\\Bethel\\\\Project\\\\Contest\\\\huluScoreLow.csv\", row.names = FALSE)"
   ]
  },
  {
   "cell_type": "code",
   "execution_count": 57,
   "id": "89394507-5437-46bc-ab80-30ab64160beb",
   "metadata": {},
   "outputs": [],
   "source": [
    "write.csv(huluScoresLow1,\"C:\\\\Users\\\\michaelwilt\\\\Desktop\\\\Bethel\\\\Project\\\\Contest\\\\huluScoreLow10.csv\", row.names = FALSE)"
   ]
  },
  {
   "cell_type": "code",
   "execution_count": 60,
   "id": "6a47cf13-5e07-4903-b9e9-8fcfb45130ae",
   "metadata": {},
   "outputs": [],
   "source": [
    "write.csv(huluPopLow,\"C:\\\\Users\\\\michaelwilt\\\\Desktop\\\\Bethel\\\\Project\\\\Contest\\\\huluPopLow.csv\", row.names = FALSE)"
   ]
  },
  {
   "cell_type": "code",
   "execution_count": 61,
   "id": "1b777be2-508a-4043-8fb4-0cf3d85d9ae7",
   "metadata": {},
   "outputs": [],
   "source": [
    "write.csv(huluPopLow1,\"C:\\\\Users\\\\michaelwilt\\\\Desktop\\\\Bethel\\\\Project\\\\Contest\\\\huluPopLow10.csv\", row.names = FALSE)"
   ]
  },
  {
   "cell_type": "code",
   "execution_count": null,
   "id": "ed471177-c64a-46e7-b24c-81e6b9e00549",
   "metadata": {},
   "outputs": [],
   "source": []
  }
 ],
 "metadata": {
  "kernelspec": {
   "display_name": "R",
   "language": "R",
   "name": "ir"
  },
  "language_info": {
   "codemirror_mode": "r",
   "file_extension": ".r",
   "mimetype": "text/x-r-source",
   "name": "R",
   "pygments_lexer": "r",
   "version": "4.1.3"
  }
 },
 "nbformat": 4,
 "nbformat_minor": 5
}
